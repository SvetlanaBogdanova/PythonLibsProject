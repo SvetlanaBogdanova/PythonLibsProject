{
 "cells": [
  {
   "cell_type": "markdown",
   "id": "ddc7969d",
   "metadata": {},
   "source": [
    "## Задание 1"
   ]
  },
  {
   "cell_type": "code",
   "execution_count": 1,
   "id": "d188d1f2",
   "metadata": {},
   "outputs": [],
   "source": [
    "import numpy as np"
   ]
  },
  {
   "cell_type": "code",
   "execution_count": 5,
   "id": "8abc57c7",
   "metadata": {},
   "outputs": [
    {
     "name": "stdout",
     "output_type": "stream",
     "text": [
      "[12 13 14 15 16 17 18 19 20 21 22 23]\n"
     ]
    }
   ],
   "source": [
    "a = np.arange(12, 24)\n",
    "print(a)"
   ]
  },
  {
   "cell_type": "markdown",
   "id": "bc8273da",
   "metadata": {},
   "source": [
    "## Задание 2"
   ]
  },
  {
   "cell_type": "code",
   "execution_count": 7,
   "id": "c96b431a",
   "metadata": {},
   "outputs": [
    {
     "data": {
      "text/plain": [
       "(12,)"
      ]
     },
     "execution_count": 7,
     "metadata": {},
     "output_type": "execute_result"
    }
   ],
   "source": [
    "a.shape"
   ]
  },
  {
   "cell_type": "code",
   "execution_count": 8,
   "id": "c6472f52",
   "metadata": {},
   "outputs": [
    {
     "name": "stdout",
     "output_type": "stream",
     "text": [
      "[[12 13 14 15 16 17]\n",
      " [18 19 20 21 22 23]]\n"
     ]
    }
   ],
   "source": [
    "a1 = a.reshape(2, 6)\n",
    "print(a1)"
   ]
  },
  {
   "cell_type": "code",
   "execution_count": 9,
   "id": "988fc2f9",
   "metadata": {},
   "outputs": [
    {
     "name": "stdout",
     "output_type": "stream",
     "text": [
      "[[12 13 14]\n",
      " [15 16 17]\n",
      " [18 19 20]\n",
      " [21 22 23]]\n"
     ]
    }
   ],
   "source": [
    "a2 = a.reshape(4, 3)\n",
    "print(a2)"
   ]
  },
  {
   "cell_type": "code",
   "execution_count": 10,
   "id": "c463bbf1",
   "metadata": {},
   "outputs": [
    {
     "name": "stdout",
     "output_type": "stream",
     "text": [
      "[[12]\n",
      " [13]\n",
      " [14]\n",
      " [15]\n",
      " [16]\n",
      " [17]\n",
      " [18]\n",
      " [19]\n",
      " [20]\n",
      " [21]\n",
      " [22]\n",
      " [23]]\n"
     ]
    }
   ],
   "source": [
    "a3 = a.reshape(12, 1)\n",
    "print(a3)"
   ]
  },
  {
   "cell_type": "code",
   "execution_count": 11,
   "id": "7aa4ec0d",
   "metadata": {},
   "outputs": [
    {
     "name": "stdout",
     "output_type": "stream",
     "text": [
      "[[12 13]\n",
      " [14 15]\n",
      " [16 17]\n",
      " [18 19]\n",
      " [20 21]\n",
      " [22 23]]\n"
     ]
    }
   ],
   "source": [
    "a4 = a.reshape(6, 2)\n",
    "print(a4)"
   ]
  },
  {
   "cell_type": "code",
   "execution_count": 12,
   "id": "7e858b1a",
   "metadata": {},
   "outputs": [
    {
     "name": "stdout",
     "output_type": "stream",
     "text": [
      "[[12 13 14 15]\n",
      " [16 17 18 19]\n",
      " [20 21 22 23]]\n"
     ]
    }
   ],
   "source": [
    "a5 = a.reshape(3, 4)\n",
    "print(a5)"
   ]
  },
  {
   "cell_type": "markdown",
   "id": "40561c4a",
   "metadata": {},
   "source": [
    "## Задание 3"
   ]
  },
  {
   "cell_type": "code",
   "execution_count": 13,
   "id": "e8f6ac81",
   "metadata": {},
   "outputs": [
    {
     "name": "stdout",
     "output_type": "stream",
     "text": [
      "[[12 13 14 15 16 17]\n",
      " [18 19 20 21 22 23]]\n"
     ]
    }
   ],
   "source": [
    "a6 = a.reshape(2, -1)\n",
    "print(a6)"
   ]
  },
  {
   "cell_type": "code",
   "execution_count": 14,
   "id": "554d06e7",
   "metadata": {},
   "outputs": [
    {
     "name": "stdout",
     "output_type": "stream",
     "text": [
      "[[12 13 14]\n",
      " [15 16 17]\n",
      " [18 19 20]\n",
      " [21 22 23]]\n"
     ]
    }
   ],
   "source": [
    "a7 = a.reshape(4, -1)\n",
    "print(a7)"
   ]
  },
  {
   "cell_type": "code",
   "execution_count": 15,
   "id": "1adf83ba",
   "metadata": {},
   "outputs": [
    {
     "name": "stdout",
     "output_type": "stream",
     "text": [
      "[[12]\n",
      " [13]\n",
      " [14]\n",
      " [15]\n",
      " [16]\n",
      " [17]\n",
      " [18]\n",
      " [19]\n",
      " [20]\n",
      " [21]\n",
      " [22]\n",
      " [23]]\n"
     ]
    }
   ],
   "source": [
    "a8 = a.reshape(12, -1)\n",
    "print(a8)"
   ]
  },
  {
   "cell_type": "code",
   "execution_count": 16,
   "id": "6907330a",
   "metadata": {},
   "outputs": [
    {
     "name": "stdout",
     "output_type": "stream",
     "text": [
      "[[12 13]\n",
      " [14 15]\n",
      " [16 17]\n",
      " [18 19]\n",
      " [20 21]\n",
      " [22 23]]\n"
     ]
    }
   ],
   "source": [
    "a9 = a.reshape(-1, 2)\n",
    "print(a9)"
   ]
  },
  {
   "cell_type": "code",
   "execution_count": 17,
   "id": "29df998c",
   "metadata": {},
   "outputs": [
    {
     "name": "stdout",
     "output_type": "stream",
     "text": [
      "[[12 13 14 15]\n",
      " [16 17 18 19]\n",
      " [20 21 22 23]]\n"
     ]
    }
   ],
   "source": [
    "a10 = a.reshape(-1, 4)\n",
    "print(a10)"
   ]
  },
  {
   "cell_type": "markdown",
   "id": "73634803",
   "metadata": {},
   "source": [
    "## Задание 4"
   ]
  },
  {
   "cell_type": "code",
   "execution_count": 112,
   "id": "763fe6c0",
   "metadata": {},
   "outputs": [
    {
     "name": "stdout",
     "output_type": "stream",
     "text": [
      "2\n"
     ]
    }
   ],
   "source": [
    "print(a8.ndim)"
   ]
  },
  {
   "cell_type": "code",
   "execution_count": null,
   "id": "7b266a76",
   "metadata": {},
   "outputs": [],
   "source": [
    "Массив Numpy, состоящий из одного столбца и 12 строк, нельзя назвать одномерным."
   ]
  },
  {
   "cell_type": "markdown",
   "id": "4da630f0",
   "metadata": {},
   "source": [
    "## Задание 5"
   ]
  },
  {
   "cell_type": "code",
   "execution_count": 116,
   "id": "18d8c4ab",
   "metadata": {},
   "outputs": [
    {
     "name": "stdout",
     "output_type": "stream",
     "text": [
      "[[-1.57415529  0.63795294 -2.04442302  1.06948089]\n",
      " [-0.93376284  0.78420819 -0.61487576  0.33289244]\n",
      " [-1.38071702 -0.28080629 -0.05981726  0.96117377]]\n"
     ]
    }
   ],
   "source": [
    "b = np.random.randn(3, 4)\n",
    "print(b)"
   ]
  },
  {
   "cell_type": "code",
   "execution_count": 48,
   "id": "ca22777c",
   "metadata": {},
   "outputs": [
    {
     "name": "stdout",
     "output_type": "stream",
     "text": [
      "Одомерный массив c: [20 18 16 14 12 10  8  6  4  2]\n",
      "Размерность массива c: 1\n",
      "Форма массива c: (10,)\n"
     ]
    }
   ],
   "source": [
    "c = b.flatten()\n",
    "print(\"Одомерный массив c: {}\".format(c))\n",
    "print(\"Размерность массива c: {}\".format(c.ndim))\n",
    "print(\"Форма массива c: {}\".format(c.shape))"
   ]
  },
  {
   "cell_type": "markdown",
   "id": "52526eb3",
   "metadata": {},
   "source": [
    "## Задание 6"
   ]
  },
  {
   "cell_type": "code",
   "execution_count": 45,
   "id": "f264135d",
   "metadata": {},
   "outputs": [
    {
     "name": "stdout",
     "output_type": "stream",
     "text": [
      "[20 18 16 14 12 10  8  6  4  2]\n"
     ]
    }
   ],
   "source": [
    "a = np.arange(20, 0, -2)\n",
    "print(a)"
   ]
  },
  {
   "cell_type": "markdown",
   "id": "930aab92",
   "metadata": {},
   "source": [
    "## Задание 7"
   ]
  },
  {
   "cell_type": "code",
   "execution_count": 50,
   "id": "b3fcef01",
   "metadata": {},
   "outputs": [
    {
     "name": "stdout",
     "output_type": "stream",
     "text": [
      "[[20 18 16 14 12 10  8  6  4  2]]\n",
      "Размерность массива a: 1\n",
      "Размерность массива b: 2\n",
      "Форма массива a: (10,)\n",
      "Форма массива b: (1, 10)\n"
     ]
    }
   ],
   "source": [
    "b = np.arange(20, 1, -2).reshape(1, 10)\n",
    "print(b)\n",
    "print(\"Размерность массива a: {}\".format(a.ndim))\n",
    "print(\"Размерность массива b: {}\".format(b.ndim))\n",
    "print(\"Форма массива a: {}\".format(a.shape))\n",
    "print(\"Форма массива b: {}\".format(b.shape))"
   ]
  },
  {
   "cell_type": "markdown",
   "id": "48f9926c",
   "metadata": {},
   "source": [
    "Так как по условию массив b состоит из одной строки и 10 столбцов, то он представляет собой двумерный массив в отличии от a, который является одномерным."
   ]
  },
  {
   "cell_type": "markdown",
   "id": "3da032a4",
   "metadata": {},
   "source": [
    "## Задание 8"
   ]
  },
  {
   "cell_type": "code",
   "execution_count": 55,
   "id": "144c8005",
   "metadata": {},
   "outputs": [
    {
     "name": "stdout",
     "output_type": "stream",
     "text": [
      "[[0. 0.]\n",
      " [0. 0.]\n",
      " [1. 1.]\n",
      " [1. 1.]\n",
      " [1. 1.]]\n",
      "Количество элементов массива v: 10\n"
     ]
    }
   ],
   "source": [
    "a = np.zeros((2, 2))\n",
    "b = np.ones((3, 2))\n",
    "v = np.vstack((a, b))\n",
    "print(v)\n",
    "print(\"Количество элементов массива v: {}\".format(v.size))"
   ]
  },
  {
   "cell_type": "markdown",
   "id": "1762272c",
   "metadata": {},
   "source": [
    "## Задание 9"
   ]
  },
  {
   "cell_type": "code",
   "execution_count": 56,
   "id": "d69f2239",
   "metadata": {},
   "outputs": [
    {
     "data": {
      "text/plain": [
       "array([ 0,  1,  2,  3,  4,  5,  6,  7,  8,  9, 10, 11])"
      ]
     },
     "execution_count": 56,
     "metadata": {},
     "output_type": "execute_result"
    }
   ],
   "source": [
    "a = np.arange(0, 12)\n",
    "a"
   ]
  },
  {
   "cell_type": "code",
   "execution_count": 57,
   "id": "cd9991a6",
   "metadata": {},
   "outputs": [
    {
     "data": {
      "text/plain": [
       "array([[ 0,  1,  2],\n",
       "       [ 3,  4,  5],\n",
       "       [ 6,  7,  8],\n",
       "       [ 9, 10, 11]])"
      ]
     },
     "execution_count": 57,
     "metadata": {},
     "output_type": "execute_result"
    }
   ],
   "source": [
    "A = a.reshape(4, 3)\n",
    "A"
   ]
  },
  {
   "cell_type": "code",
   "execution_count": 58,
   "id": "919398eb",
   "metadata": {},
   "outputs": [
    {
     "data": {
      "text/plain": [
       "array([[ 0,  3,  6,  9],\n",
       "       [ 1,  4,  7, 10],\n",
       "       [ 2,  5,  8, 11]])"
      ]
     },
     "execution_count": 58,
     "metadata": {},
     "output_type": "execute_result"
    }
   ],
   "source": [
    "At = A.T\n",
    "At"
   ]
  },
  {
   "cell_type": "code",
   "execution_count": 59,
   "id": "e3544cfd",
   "metadata": {},
   "outputs": [
    {
     "data": {
      "text/plain": [
       "array([[  5,  14,  23,  32],\n",
       "       [ 14,  50,  86, 122],\n",
       "       [ 23,  86, 149, 212],\n",
       "       [ 32, 122, 212, 302]])"
      ]
     },
     "execution_count": 59,
     "metadata": {},
     "output_type": "execute_result"
    }
   ],
   "source": [
    "B = A.dot(At)\n",
    "B"
   ]
  },
  {
   "cell_type": "code",
   "execution_count": 61,
   "id": "31876b25",
   "metadata": {},
   "outputs": [
    {
     "name": "stdout",
     "output_type": "stream",
     "text": [
      "Определитель матрицы B: 0.0\n",
      "Размер матрицы B: (4, 4)\n"
     ]
    }
   ],
   "source": [
    "d = np.linalg.det(B)\n",
    "\n",
    "print(\"Определитель матрицы B: {}\".format(d))\n",
    "print(\"Размер матрицы B: {}\".format(B.shape))"
   ]
  },
  {
   "cell_type": "markdown",
   "id": "6290ee51",
   "metadata": {},
   "source": [
    "Так как обратную матрицу можно посчитать только для матрицы, определитель которой не равен 0, то для матрицы B обратная матрица не определена."
   ]
  },
  {
   "cell_type": "markdown",
   "id": "12e24d29",
   "metadata": {},
   "source": [
    "## Задание 10"
   ]
  },
  {
   "cell_type": "code",
   "execution_count": 66,
   "id": "f7e9b3d2",
   "metadata": {},
   "outputs": [],
   "source": [
    "np.random.seed(42)"
   ]
  },
  {
   "cell_type": "markdown",
   "id": "9b658ea6",
   "metadata": {},
   "source": [
    "## Задание 11"
   ]
  },
  {
   "cell_type": "code",
   "execution_count": 94,
   "id": "71a2a6f5",
   "metadata": {},
   "outputs": [
    {
     "data": {
      "text/plain": [
       "array([11, 14, 11,  6, 11, 12,  7, 14,  2, 13,  0,  3,  1,  7,  3,  1])"
      ]
     },
     "execution_count": 94,
     "metadata": {},
     "output_type": "execute_result"
    }
   ],
   "source": [
    "c = np.random.randint(0, 16, (16,))\n",
    "c"
   ]
  },
  {
   "cell_type": "markdown",
   "id": "8e94827b",
   "metadata": {},
   "source": [
    "## Задание 12"
   ]
  },
  {
   "cell_type": "code",
   "execution_count": 97,
   "id": "b68ad644",
   "metadata": {},
   "outputs": [
    {
     "data": {
      "text/plain": [
       "array([[11, 14, 11,  6],\n",
       "       [11, 12,  7, 14],\n",
       "       [ 2, 13,  0,  3],\n",
       "       [ 1,  7,  3,  1]])"
      ]
     },
     "execution_count": 97,
     "metadata": {},
     "output_type": "execute_result"
    }
   ],
   "source": [
    "C = c.reshape(4, 4)\n",
    "print(C)"
   ]
  },
  {
   "cell_type": "code",
   "execution_count": 117,
   "id": "e8bff9e1",
   "metadata": {},
   "outputs": [
    {
     "name": "stdout",
     "output_type": "stream",
     "text": [
      "[[115 154 133  92]\n",
      " [124 170 156 262]\n",
      " [ 43 216 149 242]\n",
      " [ 42 192 242 312]]\n"
     ]
    }
   ],
   "source": [
    "D = B + C * 10\n",
    "print(D)"
   ]
  },
  {
   "cell_type": "code",
   "execution_count": 104,
   "id": "f021224a",
   "metadata": {},
   "outputs": [
    {
     "name": "stdout",
     "output_type": "stream",
     "text": [
      "Определитель матрицы D: 292637600.0000002\n",
      "Ранг матрицы D: 4\n",
      "Обратная матрица D_inv: [[ 0.00301492  0.00842694 -0.00547886 -0.00371586]\n",
      " [ 0.00313685 -0.00491953  0.01099722 -0.00532372]\n",
      " [ 0.00624814 -0.00625634 -0.00825335  0.00981296]\n",
      " [-0.00718254  0.00674568  0.00037165 -0.00062986]]\n"
     ]
    }
   ],
   "source": [
    "print(\"Определитель матрицы D: {}\".format(np.linalg.det(D)))\n",
    "print(\"Ранг матрицы D: {}\".format(np.linalg.matrix_rank(D)))\n",
    "\n",
    "D_inv = np.linalg.inv(D)\n",
    "print(\"Обратная матрица D_inv: {}\".format(D_inv))"
   ]
  },
  {
   "cell_type": "markdown",
   "id": "03d3e98c",
   "metadata": {},
   "source": [
    "## Задание 13"
   ]
  },
  {
   "cell_type": "code",
   "execution_count": 118,
   "id": "2e5297bf",
   "metadata": {},
   "outputs": [
    {
     "name": "stdout",
     "output_type": "stream",
     "text": [
      "[[1. 1. 0. 0.]\n",
      " [1. 0. 1. 0.]\n",
      " [1. 0. 0. 1.]\n",
      " [0. 1. 1. 0.]]\n"
     ]
    }
   ],
   "source": [
    "D_inv[D_inv > 0] = 1\n",
    "D_inv[D_inv < 0] = 0\n",
    "print(D_inv)"
   ]
  },
  {
   "cell_type": "code",
   "execution_count": 111,
   "id": "112daf3f",
   "metadata": {},
   "outputs": [
    {
     "name": "stdout",
     "output_type": "stream",
     "text": [
      "[[  5  14  11   6]\n",
      " [ 14  12  86  14]\n",
      " [ 23  13   0 212]\n",
      " [  1 122 212   1]]\n"
     ]
    }
   ],
   "source": [
    "E = np.where(D_inv, B, C)\n",
    "print(E)"
   ]
  }
 ],
 "metadata": {
  "kernelspec": {
   "display_name": "Python 3",
   "language": "python",
   "name": "python3"
  },
  "language_info": {
   "codemirror_mode": {
    "name": "ipython",
    "version": 3
   },
   "file_extension": ".py",
   "mimetype": "text/x-python",
   "name": "python",
   "nbconvert_exporter": "python",
   "pygments_lexer": "ipython3",
   "version": "3.7.9"
  }
 },
 "nbformat": 4,
 "nbformat_minor": 5
}
